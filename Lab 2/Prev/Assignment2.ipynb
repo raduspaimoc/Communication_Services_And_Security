{
 "cells": [
  {
   "cell_type": "markdown",
   "metadata": {
    "colab_type": "text",
    "id": "ysXmAIK9C6aX"
   },
   "source": [
    "# UDL\n",
    "\n",
    "## Communication Services and Security - ICT Project - 103087\n",
    "\n",
    "### ASSIGNMENT 2\n",
    "\n",
    "#### Group\n",
    "\n",
    "- Daniel Vieira Cordeiro\n",
    "- Rafael Câmara Pereira \n",
    "- David Sarrat González\n"
   ]
  },
  {
   "cell_type": "markdown",
   "metadata": {
    "colab_type": "text",
    "id": "ZRf6Jxq5_tOR"
   },
   "source": [
    "# Imports & Libraries"
   ]
  },
  {
   "cell_type": "code",
   "execution_count": 0,
   "metadata": {
    "colab": {},
    "colab_type": "code",
    "id": "wR-FB6sCu3Zs"
   },
   "outputs": [],
   "source": [
    "from nltk.tokenize import word_tokenize\n",
    "\n",
    "import matplotlib.pyplot as plt\n",
    "import numpy as np\n",
    "import pandas as pd"
   ]
  },
  {
   "cell_type": "markdown",
   "metadata": {
    "colab_type": "text",
    "id": "klxrRPko_0KQ"
   },
   "source": [
    "# ex2-trace.tr"
   ]
  },
  {
   "cell_type": "markdown",
   "metadata": {
    "colab_type": "text",
    "id": "CDGwKfRXAhR0"
   },
   "source": [
    " ### Importing data"
   ]
  },
  {
   "cell_type": "code",
   "execution_count": 2,
   "metadata": {
    "colab": {
     "base_uri": "https://localhost:8080/",
     "height": 204
    },
    "colab_type": "code",
    "executionInfo": {
     "elapsed": 1022,
     "status": "ok",
     "timestamp": 1584206123819,
     "user": {
      "displayName": "Daniel",
      "photoUrl": "",
      "userId": "00060278583908032861"
     },
     "user_tz": -60
    },
    "id": "OALdWkCMwuK1",
    "outputId": "353cb565-e367-4d82-f5e4-8e5e83b1e712"
   },
   "outputs": [
    {
     "data": {
      "text/html": [
       "<div>\n",
       "<style scoped>\n",
       "    .dataframe tbody tr th:only-of-type {\n",
       "        vertical-align: middle;\n",
       "    }\n",
       "\n",
       "    .dataframe tbody tr th {\n",
       "        vertical-align: top;\n",
       "    }\n",
       "\n",
       "    .dataframe thead th {\n",
       "        text-align: right;\n",
       "    }\n",
       "</style>\n",
       "<table border=\"1\" class=\"dataframe\">\n",
       "  <thead>\n",
       "    <tr style=\"text-align: right;\">\n",
       "      <th></th>\n",
       "      <th>Event_Type</th>\n",
       "      <th>Time</th>\n",
       "      <th>Source_Node</th>\n",
       "      <th>Destination_Node</th>\n",
       "      <th>Segment_Type</th>\n",
       "      <th>Segment_Size</th>\n",
       "      <th>Flags</th>\n",
       "      <th>Flow_Identifier</th>\n",
       "      <th>Source_Address</th>\n",
       "      <th>Destination_Address</th>\n",
       "      <th>Segment_Number</th>\n",
       "      <th>Segment_Identifier</th>\n",
       "    </tr>\n",
       "  </thead>\n",
       "  <tbody>\n",
       "    <tr>\n",
       "      <th>0</th>\n",
       "      <td>+</td>\n",
       "      <td>0.0</td>\n",
       "      <td>1</td>\n",
       "      <td>3</td>\n",
       "      <td>tcp</td>\n",
       "      <td>40</td>\n",
       "      <td>-------</td>\n",
       "      <td>1</td>\n",
       "      <td>1.0</td>\n",
       "      <td>4.1</td>\n",
       "      <td>0</td>\n",
       "      <td>0</td>\n",
       "    </tr>\n",
       "    <tr>\n",
       "      <th>1</th>\n",
       "      <td>-</td>\n",
       "      <td>0.0</td>\n",
       "      <td>1</td>\n",
       "      <td>3</td>\n",
       "      <td>tcp</td>\n",
       "      <td>40</td>\n",
       "      <td>-------</td>\n",
       "      <td>1</td>\n",
       "      <td>1.0</td>\n",
       "      <td>4.1</td>\n",
       "      <td>0</td>\n",
       "      <td>0</td>\n",
       "    </tr>\n",
       "    <tr>\n",
       "      <th>2</th>\n",
       "      <td>+</td>\n",
       "      <td>0.0</td>\n",
       "      <td>0</td>\n",
       "      <td>3</td>\n",
       "      <td>tcp</td>\n",
       "      <td>40</td>\n",
       "      <td>-------</td>\n",
       "      <td>0</td>\n",
       "      <td>0.0</td>\n",
       "      <td>4.0</td>\n",
       "      <td>0</td>\n",
       "      <td>1</td>\n",
       "    </tr>\n",
       "    <tr>\n",
       "      <th>3</th>\n",
       "      <td>-</td>\n",
       "      <td>0.0</td>\n",
       "      <td>0</td>\n",
       "      <td>3</td>\n",
       "      <td>tcp</td>\n",
       "      <td>40</td>\n",
       "      <td>-------</td>\n",
       "      <td>0</td>\n",
       "      <td>0.0</td>\n",
       "      <td>4.0</td>\n",
       "      <td>0</td>\n",
       "      <td>1</td>\n",
       "    </tr>\n",
       "    <tr>\n",
       "      <th>4</th>\n",
       "      <td>+</td>\n",
       "      <td>0.0</td>\n",
       "      <td>2</td>\n",
       "      <td>3</td>\n",
       "      <td>tcp</td>\n",
       "      <td>1000</td>\n",
       "      <td>-------</td>\n",
       "      <td>2</td>\n",
       "      <td>2.0</td>\n",
       "      <td>4.2</td>\n",
       "      <td>0</td>\n",
       "      <td>2</td>\n",
       "    </tr>\n",
       "  </tbody>\n",
       "</table>\n",
       "</div>"
      ],
      "text/plain": [
       "  Event_Type  Time  ...  Segment_Number  Segment_Identifier\n",
       "0          +   0.0  ...               0                   0\n",
       "1          -   0.0  ...               0                   0\n",
       "2          +   0.0  ...               0                   1\n",
       "3          -   0.0  ...               0                   1\n",
       "4          +   0.0  ...               0                   2\n",
       "\n",
       "[5 rows x 12 columns]"
      ]
     },
     "execution_count": 2,
     "metadata": {
      "tags": []
     },
     "output_type": "execute_result"
    }
   ],
   "source": [
    "header = ['Event_Type', 'Time', 'Source_Node', 'Destination_Node', 'Segment_Type', 'Segment_Size', 'Flags', 'Flow_Identifier', 'Source_Address', 'Destination_Address', 'Segment_Number', 'Segment_Identifier']\n",
    "\n",
    "df = pd.read_csv('ex2-trace.tr', sep=' ', names = header)\n",
    "\n",
    "df.head()"
   ]
  },
  {
   "cell_type": "code",
   "execution_count": 3,
   "metadata": {
    "colab": {
     "base_uri": "https://localhost:8080/",
     "height": 306
    },
    "colab_type": "code",
    "executionInfo": {
     "elapsed": 549,
     "status": "ok",
     "timestamp": 1584206126111,
     "user": {
      "displayName": "Daniel",
      "photoUrl": "",
      "userId": "00060278583908032861"
     },
     "user_tz": -60
    },
    "id": "PYhsWhGA1ZcH",
    "outputId": "a7beba67-fcc6-4ec0-c2bb-3ab77bd132ba"
   },
   "outputs": [
    {
     "name": "stdout",
     "output_type": "stream",
     "text": [
      "<class 'pandas.core.frame.DataFrame'>\n",
      "RangeIndex: 28509 entries, 0 to 28508\n",
      "Data columns (total 12 columns):\n",
      "Event_Type             28509 non-null object\n",
      "Time                   28509 non-null float64\n",
      "Source_Node            28509 non-null int64\n",
      "Destination_Node       28509 non-null int64\n",
      "Segment_Type           28509 non-null object\n",
      "Segment_Size           28509 non-null int64\n",
      "Flags                  28509 non-null object\n",
      "Flow_Identifier        28509 non-null int64\n",
      "Source_Address         28509 non-null float64\n",
      "Destination_Address    28509 non-null float64\n",
      "Segment_Number         28509 non-null int64\n",
      "Segment_Identifier     28509 non-null int64\n",
      "dtypes: float64(3), int64(6), object(3)\n",
      "memory usage: 2.6+ MB\n"
     ]
    }
   ],
   "source": [
    "df.info()"
   ]
  },
  {
   "cell_type": "markdown",
   "metadata": {
    "colab_type": "text",
    "id": "HKFzrR8YBOls"
   },
   "source": [
    "## Lost Packages"
   ]
  },
  {
   "cell_type": "markdown",
   "metadata": {
    "colab_type": "text",
    "id": "a4s0mbNFAl8p"
   },
   "source": [
    "### Processing data"
   ]
  },
  {
   "cell_type": "code",
   "execution_count": 0,
   "metadata": {
    "colab": {},
    "colab_type": "code",
    "id": "gv_cypWsxJkh"
   },
   "outputs": [],
   "source": [
    "lost_packages = df.Event_Type == 'd'\n",
    "ids = df[lost_packages].Source_Address\n",
    "\n",
    "n0_lost = ids == 0\n",
    "n1_lost = ids == 1\n",
    "n2_lost = ids == 2"
   ]
  },
  {
   "cell_type": "markdown",
   "metadata": {
    "colab_type": "text",
    "id": "IuSwqm8zAsga"
   },
   "source": [
    "### Showing data"
   ]
  },
  {
   "cell_type": "code",
   "execution_count": 5,
   "metadata": {
    "colab": {
     "base_uri": "https://localhost:8080/",
     "height": 102
    },
    "colab_type": "code",
    "executionInfo": {
     "elapsed": 858,
     "status": "ok",
     "timestamp": 1584206133865,
     "user": {
      "displayName": "Daniel",
      "photoUrl": "",
      "userId": "00060278583908032861"
     },
     "user_tz": -60
    },
    "id": "0evySBQQAtGv",
    "outputId": "2f2c667e-d5cd-4eb1-e722-bfbafca0ab3d"
   },
   "outputs": [
    {
     "name": "stdout",
     "output_type": "stream",
     "text": [
      "Lost Packages\n",
      "Node 0:\t 10\n",
      "Node 1:\t 11\n",
      "Node 2:\t 1\n",
      "Total:\t 22\n"
     ]
    }
   ],
   "source": [
    "print(\"Lost Packages\")\n",
    "print(\"Node 0:\\t\", sum(n0_lost))\n",
    "print(\"Node 1:\\t\", sum(n1_lost))\n",
    "print(\"Node 2:\\t\", sum(n2_lost))\n",
    "print(\"Total:\\t\", ids.count())"
   ]
  },
  {
   "cell_type": "markdown",
   "metadata": {
    "colab_type": "text",
    "id": "UIBbRYdmBTco"
   },
   "source": [
    "## Transfered Bytes"
   ]
  },
  {
   "cell_type": "markdown",
   "metadata": {
    "colab_type": "text",
    "id": "n8SD_l4ABZgc"
   },
   "source": [
    "### Processing data"
   ]
  },
  {
   "cell_type": "code",
   "execution_count": 0,
   "metadata": {
    "colab": {},
    "colab_type": "code",
    "id": "dlAnsrdlBhoZ"
   },
   "outputs": [],
   "source": [
    "def getNode(row, node):\n",
    "  return row.Source_Node == int(node) and row.Event_Type == '-'\n",
    "n0_packets = df.apply(getNode, axis = 1, args=('0'))\n",
    "n1_packets = df.apply(getNode, axis = 1, args=('1'))\n",
    "n2_packets = df.apply(getNode, axis = 1, args=('2'))\n",
    "n3_packets = df.apply(getNode, axis = 1, args=('3'))\n",
    "n4_packets = df.apply(getNode, axis = 1, args=('4'))\n",
    "\n",
    "n0_bytes = sum(df[n0_packets].Segment_Size)\n",
    "n1_bytes = sum(df[n1_packets].Segment_Size)\n",
    "n2_bytes = sum(df[n2_packets].Segment_Size)\n",
    "n3_bytes = sum(df[n3_packets].Segment_Size)\n",
    "n4_bytes = sum(df[n4_packets].Segment_Size)\n",
    "total_bytes = n0_bytes + n1_bytes + n2_bytes + n3_bytes + n4_bytes"
   ]
  },
  {
   "cell_type": "markdown",
   "metadata": {
    "colab_type": "text",
    "id": "xqk1qoc-BdEc"
   },
   "source": [
    "### Showing data\n"
   ]
  },
  {
   "cell_type": "code",
   "execution_count": 7,
   "metadata": {
    "colab": {
     "base_uri": "https://localhost:8080/",
     "height": 136
    },
    "colab_type": "code",
    "executionInfo": {
     "elapsed": 1128,
     "status": "ok",
     "timestamp": 1584206141940,
     "user": {
      "displayName": "Daniel",
      "photoUrl": "",
      "userId": "00060278583908032861"
     },
     "user_tz": -60
    },
    "id": "QHF5swwZBkEq",
    "outputId": "29e92a1d-21ae-435d-80cc-38cc69a0a9b6"
   },
   "outputs": [
    {
     "name": "stdout",
     "output_type": "stream",
     "text": [
      "Transferred bytes:\n",
      "Node 0:\t 765480\n",
      "Node 1:\t 759240\n",
      "Node 2:\t 940000\n",
      "Node 3:\t 2516560\n",
      "Node 4:\t 94400\n",
      "Total:\t 5075680\n"
     ]
    }
   ],
   "source": [
    "print(\"Transferred bytes:\")\n",
    "print(\"Node 0:\\t\", n0_bytes)\n",
    "print(\"Node 1:\\t\", n1_bytes)\n",
    "print(\"Node 2:\\t\", n2_bytes)\n",
    "print(\"Node 3:\\t\", n3_bytes)\n",
    "print(\"Node 4:\\t\", n4_bytes)\n",
    "print(\"Total:\\t\", total_bytes)"
   ]
  },
  {
   "cell_type": "markdown",
   "metadata": {
    "colab_type": "text",
    "id": "P3WqPusj3FHN"
   },
   "source": [
    "\n",
    "# ex2-trace.rtt"
   ]
  },
  {
   "cell_type": "markdown",
   "metadata": {
    "colab_type": "text",
    "id": "1PEk32ESAJN-"
   },
   "source": [
    "### Importing data"
   ]
  },
  {
   "cell_type": "code",
   "execution_count": 8,
   "metadata": {
    "colab": {
     "base_uri": "https://localhost:8080/",
     "height": 204
    },
    "colab_type": "code",
    "executionInfo": {
     "elapsed": 864,
     "status": "ok",
     "timestamp": 1584206144387,
     "user": {
      "displayName": "Daniel",
      "photoUrl": "",
      "userId": "00060278583908032861"
     },
     "user_tz": -60
    },
    "id": "dVUPRLKJAZTA",
    "outputId": "12908b00-6d56-4193-c918-8fab21b0b97c"
   },
   "outputs": [
    {
     "data": {
      "text/html": [
       "<div>\n",
       "<style scoped>\n",
       "    .dataframe tbody tr th:only-of-type {\n",
       "        vertical-align: middle;\n",
       "    }\n",
       "\n",
       "    .dataframe tbody tr th {\n",
       "        vertical-align: top;\n",
       "    }\n",
       "\n",
       "    .dataframe thead th {\n",
       "        text-align: right;\n",
       "    }\n",
       "</style>\n",
       "<table border=\"1\" class=\"dataframe\">\n",
       "  <thead>\n",
       "    <tr style=\"text-align: right;\">\n",
       "      <th></th>\n",
       "      <th>Node</th>\n",
       "      <th>Time</th>\n",
       "      <th>rtt</th>\n",
       "      <th>srtt</th>\n",
       "      <th>cwnd</th>\n",
       "      <th>cwmax</th>\n",
       "      <th>bo</th>\n",
       "    </tr>\n",
       "  </thead>\n",
       "  <tbody>\n",
       "    <tr>\n",
       "      <th>0</th>\n",
       "      <td>0</td>\n",
       "      <td>0.0</td>\n",
       "      <td>0.0</td>\n",
       "      <td>0.0</td>\n",
       "      <td>1.0</td>\n",
       "      <td>40</td>\n",
       "      <td>0.0</td>\n",
       "    </tr>\n",
       "    <tr>\n",
       "      <th>1</th>\n",
       "      <td>1</td>\n",
       "      <td>0.0</td>\n",
       "      <td>0.0</td>\n",
       "      <td>0.0</td>\n",
       "      <td>1.0</td>\n",
       "      <td>40</td>\n",
       "      <td>0.0</td>\n",
       "    </tr>\n",
       "    <tr>\n",
       "      <th>2</th>\n",
       "      <td>2</td>\n",
       "      <td>0.0</td>\n",
       "      <td>0.0</td>\n",
       "      <td>0.0</td>\n",
       "      <td>1.0</td>\n",
       "      <td>40</td>\n",
       "      <td>0.0</td>\n",
       "    </tr>\n",
       "    <tr>\n",
       "      <th>3</th>\n",
       "      <td>0</td>\n",
       "      <td>0.1</td>\n",
       "      <td>0.0</td>\n",
       "      <td>0.0</td>\n",
       "      <td>1.0</td>\n",
       "      <td>40</td>\n",
       "      <td>0.0</td>\n",
       "    </tr>\n",
       "    <tr>\n",
       "      <th>4</th>\n",
       "      <td>1</td>\n",
       "      <td>0.1</td>\n",
       "      <td>0.0</td>\n",
       "      <td>0.0</td>\n",
       "      <td>1.0</td>\n",
       "      <td>40</td>\n",
       "      <td>0.0</td>\n",
       "    </tr>\n",
       "  </tbody>\n",
       "</table>\n",
       "</div>"
      ],
      "text/plain": [
       "   Node  Time  rtt  srtt  cwnd  cwmax   bo\n",
       "0     0   0.0  0.0   0.0   1.0     40  0.0\n",
       "1     1   0.0  0.0   0.0   1.0     40  0.0\n",
       "2     2   0.0  0.0   0.0   1.0     40  0.0\n",
       "3     0   0.1  0.0   0.0   1.0     40  0.0\n",
       "4     1   0.1  0.0   0.0   1.0     40  0.0"
      ]
     },
     "execution_count": 8,
     "metadata": {
      "tags": []
     },
     "output_type": "execute_result"
    }
   ],
   "source": [
    "header2 = ['Node', 'Time', 'rtt', 'srtt', 'cwnd', 'cwmax', 'bo']\n",
    "\n",
    "df2 = pd.read_csv('ex2-trace.rtt', sep=' ', names = header2)\n",
    "\n",
    "df2.head()"
   ]
  },
  {
   "cell_type": "markdown",
   "metadata": {
    "colab_type": "text",
    "id": "Q2yi8h9-B7ZD"
   },
   "source": [
    "### Processing data"
   ]
  },
  {
   "cell_type": "code",
   "execution_count": 0,
   "metadata": {
    "colab": {},
    "colab_type": "code",
    "id": "07G_mZZ5BttT"
   },
   "outputs": [],
   "source": [
    "time = df2[df2.Node==0].Time\n",
    "cwnd0 = df2[df2.Node==0].cwnd\n",
    "cwnd1 = df2[df2.Node==1].cwnd\n",
    "cwnd2 = df2[df2.Node==2].cwnd"
   ]
  },
  {
   "cell_type": "markdown",
   "metadata": {
    "colab_type": "text",
    "id": "C4WnMiqGB3-j"
   },
   "source": [
    "### Showing data"
   ]
  },
  {
   "cell_type": "code",
   "execution_count": 10,
   "metadata": {
    "colab": {
     "base_uri": "https://localhost:8080/",
     "height": 295
    },
    "colab_type": "code",
    "executionInfo": {
     "elapsed": 1311,
     "status": "ok",
     "timestamp": 1584206150652,
     "user": {
      "displayName": "Daniel",
      "photoUrl": "",
      "userId": "00060278583908032861"
     },
     "user_tz": -60
    },
    "id": "6GaYI7SSBx_3",
    "outputId": "0bf21da5-a853-4b48-ab9c-9ee5bffe1ccc"
   },
   "outputs": [
    {
     "data": {
      "image/png": "[encoded data removed]",
      "text/plain": [
       "<Figure size 432x288 with 1 Axes>"
      ]
     },
     "metadata": {
      "tags": []
     },
     "output_type": "display_data"
    }
   ],
   "source": [
    "plt.plot(time,cwnd2, label='TCP Vegas', color='red')\n",
    "plt.plot(time,cwnd1, label='TCP Reno', color='green')\n",
    "plt.plot(time,cwnd0, label='TCP Tahoe', color='blue')\n",
    "\n",
    "plt.title('Congestion Windows x Time')\n",
    "plt.xlabel('Time (s)')\n",
    "plt.ylabel('Congestion Window (MSS)')\n",
    "plt.legend(loc='upper right')\n",
    "plt.show()"
   ]
  }
 ],
 "metadata": {
  "colab": {
   "collapsed_sections": [],
   "name": "Assignment2.ipynb",
   "provenance": [],
   "toc_visible": true
  },
  "kernelspec": {
   "display_name": "Python 3",
   "language": "python",
   "name": "python3"
  },
  "language_info": {
   "codemirror_mode": {
    "name": "ipython",
    "version": 3
   },
   "file_extension": ".py",
   "mimetype": "text/x-python",
   "name": "python",
   "nbconvert_exporter": "python",
   "pygments_lexer": "ipython3",
   "version": "3.9.0+"
  }
 },
 "nbformat": 4,
 "nbformat_minor": 1
}
