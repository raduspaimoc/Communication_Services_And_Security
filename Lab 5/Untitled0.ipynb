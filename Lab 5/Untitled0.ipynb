{
 "cells": [
  {
   "cell_type": "code",
   "execution_count": 2,
   "metadata": {
    "colab": {
     "base_uri": "https://localhost:8080/",
     "height": 68
    },
    "colab_type": "code",
    "executionInfo": {
     "elapsed": 738,
     "status": "ok",
     "timestamp": 1589041474104,
     "user": {
      "displayName": "Daniel",
      "photoUrl": "",
      "userId": "00060278583908032861"
     },
     "user_tz": -120
    },
    "id": "ScHFR4NLP0Mo",
    "outputId": "377df592-1d5e-41d3-ed85-9529393d7e01"
   },
   "outputs": [
    {
     "name": "stdout",
     "output_type": "stream",
     "text": [
      "6000000\n",
      "1.6666666666666668e-07\n",
      "3.3333333333333335e-07\n"
     ]
    }
   ],
   "source": [
    "transmissionRate = 6*10**(6)\n",
    "transmissionBitTime = 1/transmissionRate\n",
    "Ts = 2 * transmissionBitTime\n",
    "\n",
    "print(transmissionRate)\n",
    "print(transmissionBitTime)\n",
    "print(Ts)\n",
    "\n"
   ]
  }
 ],
 "metadata": {
  "colab": {
   "authorship_tag": "ABX9TyNWni968X54inhMFyhZlKBr",
   "name": "Untitled0.ipynb",
   "provenance": []
  },
  "kernelspec": {
   "display_name": "Python 3",
   "language": "python",
   "name": "python3"
  },
  "language_info": {
   "codemirror_mode": {
    "name": "ipython",
    "version": 3
   },
   "file_extension": ".py",
   "mimetype": "text/x-python",
   "name": "python",
   "nbconvert_exporter": "python",
   "pygments_lexer": "ipython3",
   "version": "3.8.5"
  }
 },
 "nbformat": 4,
 "nbformat_minor": 1
}
