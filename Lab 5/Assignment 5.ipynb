{
 "cells": [
  {
   "cell_type": "markdown",
   "id": "monthly-gossip",
   "metadata": {},
   "source": [
    "# Exercice 5 - Problem 2"
   ]
  },
  {
   "cell_type": "markdown",
   "id": "occupational-magnet",
   "metadata": {},
   "source": [
    "#### Atuhors: Lluís Mas & Radu Spaimoc"
   ]
  },
  {
   "cell_type": "markdown",
   "id": "narrow-nylon",
   "metadata": {},
   "source": [
    "This notebook contains the solution for the second part of the Exercice 5."
   ]
  },
  {
   "cell_type": "markdown",
   "id": "rapid-tucson",
   "metadata": {},
   "source": [
    "## Imports"
   ]
  },
  {
   "cell_type": "code",
   "execution_count": 128,
   "id": "discrete-plaza",
   "metadata": {},
   "outputs": [],
   "source": [
    "from scipy.integrate import quad\n",
    "import numpy as np\n",
    "import pandas as pd\n",
    "import numpy as np\n",
    "import seaborn as sns\n",
    "import matplotlib.pyplot as plt\n",
    "import math"
   ]
  },
  {
   "cell_type": "markdown",
   "id": "floral-chaos",
   "metadata": {},
   "source": [
    "## Functions"
   ]
  },
  {
   "cell_type": "code",
   "execution_count": 129,
   "id": "logical-tonight",
   "metadata": {},
   "outputs": [],
   "source": [
    "def get_signal_plot(ps, title, name):\n",
    "    plt.figure(figsize=(12,7))\n",
    "    ax1 = plt.axes(frameon=False)    \n",
    "    xaxis = np.arange(0, 16)\n",
    "    yaxis = np.array(ps)\n",
    "    plt.step(xaxis, yaxis, linewidth=4,)\n",
    "    plt.title(title, fontweight='bold')\n",
    "    plt.savefig(name)\n",
    "    plt.show()\n",
    "    \n",
    "def get_box_plot(sig1AX, sig1AY, sig1BX, sig1BY, channel, name=\"no_name\", ylim1=-0.1, ylim2=1.2, store=True):\n",
    "    plt.figure(figsize=(12,7))\n",
    "    ax1 = plt.axes(frameon=False)\n",
    "    x=range(channel-11, channel+11)\n",
    "\n",
    "    markerline, stemlines, baseline =  plt.stem(sig1AX, sig1AY, '-', 'None')\n",
    "    plt.setp(stemlines, linewidth = 5)\n",
    "    plt.setp(markerline, markersize = 5)\n",
    "\n",
    "    markerline, stemlines, baseline = plt.stem(sig1BX, sig1BY, '-', 'None')\n",
    "    plt.setp(stemlines, linewidth = 5)\n",
    "    plt.setp(markerline, markersize = 5)\n",
    "\n",
    "    markerline, stemlines, baseline =  plt.stem([channel-11,channel+11],[1.3,1.3])\n",
    "    plt.xlabel('Frequency (MHz)')\n",
    "    baseline.set_xdata([0,1])\n",
    "    baseline.set_transform(plt.gca().get_yaxis_transform())\n",
    "    plt.grid()\n",
    "    plt.ylim(ylim1, ylim2)\n",
    "    if store:    \n",
    "        plt.savefig(name)\n",
    "    plt.show()\n",
    "    \n",
    "def get_multi_box_plot(sig1AX, sig1AY, sig1BX, sig1BY, channel,\n",
    "                       sigxAX, sigxAY, sigxBX, sigxBY, channel2,\n",
    "                       name=\"no_name\", ylim1=-0.1, ylim2=1.2, store=True):\n",
    "    plt.figure(figsize=(12,7))\n",
    "    ax1 = plt.axes(frameon=False)\n",
    "    x=range(channel2-11, channel2+11)\n",
    "\n",
    "    markerline, stemlines, baseline =  plt.stem(sig1AX, sig1AY, '-', 'None')\n",
    "    plt.setp(stemlines, linewidth = 5)\n",
    "    plt.setp(markerline, markersize = 5)\n",
    "\n",
    "    markerline, stemlines, baseline = plt.stem(sig1BX, sig1BY, '-', 'None')\n",
    "    plt.setp(stemlines, linewidth = 5)\n",
    "    plt.setp(markerline, markersize = 5)\n",
    "\n",
    "    markerline, stemlines, baseline =  plt.stem(sigxAX, sigxAY, '-', 'None')\n",
    "    plt.setp(stemlines, linewidth = 5, color='y')\n",
    "    plt.setp(markerline, markersize = 5)\n",
    "\n",
    "    markerline, stemlines, baseline = plt.stem(sigxBX, sigxBY, '-', 'None')\n",
    "    plt.setp(stemlines, linewidth = 5, color='y')\n",
    "    plt.setp(markerline, markersize = 5)\n",
    "\n",
    "    \n",
    "    markerline, stemlines, baseline =  plt.stem([channel-11,channel+11],[1.3,1.3])\n",
    "    markerline, stemlines, baseline =  plt.stem([channel2-11,channel2+11],[1.3,1.3],'y')\n",
    "    plt.xlabel('Frequency (MHz)')\n",
    "    baseline.set_xdata([0,1])\n",
    "    baseline.set_transform(plt.gca().get_yaxis_transform())\n",
    "    plt.grid()\n",
    "    plt.ylim(ylim1, ylim2)\n",
    "    if store:    \n",
    "        plt.savefig(name)\n",
    "    plt.show()\n",
    " \n",
    "\n",
    "def get_points_plot(sig1AX, sig1AY, sig1BX, sig1BY, channel, name, ylim1=-0.1, ylim2=1.2):\n",
    "    plt.figure(figsize=(12,7))\n",
    "    ax1 = plt.axes(frameon=False)\n",
    "    x=range(channel-11, channel+11)\n",
    "\n",
    "    plt.scatter(sig1AX, sig1AY, label=\"a\")\n",
    "    plt.scatter(sig1BX, sig1BY, label=\"b\")\n",
    "    plt.xlabel('Frequency (MHz)')\n",
    "    plt.grid()\n",
    "    ax1.legend(title=\"Coefficients\")\n",
    "    plt.ylim(ylim1, ylim2)\n",
    "    plt.savefig(name)\n",
    "    plt.show()\n",
    "    \n",
    "\n",
    "def cosinus(t, T, n, d=1):\n",
    "  return np.cos(2*np.pi*n*t/T/d) \n",
    "\n",
    "def sinus(t, T, n, d=1):\n",
    "  return np.sin(2*np.pi*n*t/T/d)\n",
    "\n",
    "def cosIntegral(t, T, n, period):\n",
    "  return (2/T) * quad(cosinus, 0, T/period, args=(T, n))[0]\n",
    "    \n",
    "def sinIntegral(t, T, n, period):\n",
    "  return (2/T) * quad(sinus, 0, T/period, args=(T, n))[0]\n",
    "\n",
    "def fourrier(t, T, n, period):\n",
    "  return (cosinus(t, T, n) * cosIntegral(t, T, n, period) + \n",
    "          sinus(t, T, n) * sinIntegral(t, T, n, period))"
   ]
  },
  {
   "cell_type": "markdown",
   "id": "stuffed-monster",
   "metadata": {},
   "source": [
    "## Initial periodic signals"
   ]
  },
  {
   "cell_type": "markdown",
   "id": "artificial-thermal",
   "metadata": {},
   "source": [
    "### - Channel 1 (101010) "
   ]
  },
  {
   "cell_type": "code",
   "execution_count": 130,
   "id": "fatty-hybrid",
   "metadata": {},
   "outputs": [
    {
     "data": {
      "image/png": "[encoded data removed]",
      "text/plain": [
       "<Figure size 864x504 with 1 Axes>"
      ]
     },
     "metadata": {
      "needs_background": "light"
     },
     "output_type": "display_data"
    }
   ],
   "source": [
    "get_signal_plot(\n",
    "    [1,0,1,0,1,0,1,0,1,0,1,0,1,0,1,0], \n",
    "    'Periodic signal (101010. . . )', \n",
    "    'ps1.jpg')"
   ]
  },
  {
   "cell_type": "markdown",
   "id": "extraordinary-bedroom",
   "metadata": {},
   "source": [
    "### - Channel X (100100)"
   ]
  },
  {
   "cell_type": "markdown",
   "id": "collected-matthew",
   "metadata": {},
   "source": [
    "x = 6 or x = 3"
   ]
  },
  {
   "cell_type": "code",
   "execution_count": 131,
   "id": "occasional-minority",
   "metadata": {},
   "outputs": [
    {
     "data": {
      "image/png": "[encoded data removed]",
      "text/plain": [
       "<Figure size 864x504 with 1 Axes>"
      ]
     },
     "metadata": {
      "needs_background": "light"
     },
     "output_type": "display_data"
    }
   ],
   "source": [
    "get_signal_plot(\n",
    "    [1,0,0,1,0,0,1,0,0,1,0,0,1,0,0,1],\n",
    "    'Periodic signal (100100. . . )', \n",
    "    'ps2.jpg')"
   ]
  },
  {
   "cell_type": "markdown",
   "id": "played-location",
   "metadata": {},
   "source": [
    "## No interferences signals"
   ]
  },
  {
   "cell_type": "code",
   "execution_count": 132,
   "id": "common-finding",
   "metadata": {},
   "outputs": [
    {
     "data": {
      "image/png": "[encoded data removed]",
      "text/plain": [
       "<Figure size 864x504 with 1 Axes>"
      ]
     },
     "metadata": {
      "needs_background": "light"
     },
     "output_type": "display_data"
    }
   ],
   "source": [
    "transmissionRate = 6*10**(6)\n",
    "Tb = 1/transmissionRate\n",
    "Ts = 2 * Tb\n",
    "\n",
    "T1 = 1/3 *10**(-6)\n",
    "y = 0.5\n",
    "\n",
    "period = 2\n",
    "\n",
    "t = np.linspace(0,Ts*2,10000)\n",
    "\n",
    "for n in range(1,8):\n",
    "  y += fourrier(t, T1, n, period)\n",
    "  \n",
    "plt.figure(figsize=(12,7))\n",
    "ax1 = plt.axes(frameon=False)    \n",
    "plt.plot(t, y, linewidth=4)\n",
    "ax1.axes.get_xaxis().set_visible(False)\n",
    "plt.savefig('s1.jpg')\n",
    "plt.show()"
   ]
  },
  {
   "cell_type": "code",
   "execution_count": 133,
   "id": "vocal-culture",
   "metadata": {},
   "outputs": [],
   "source": [
    "expected_t = t\n",
    "expected_y = y"
   ]
  },
  {
   "cell_type": "code",
   "execution_count": 134,
   "id": "moved-clock",
   "metadata": {},
   "outputs": [
    {
     "data": {
      "image/png": "[encoded data removed]",
      "text/plain": [
       "<Figure size 864x504 with 1 Axes>"
      ]
     },
     "metadata": {
      "needs_background": "light"
     },
     "output_type": "display_data"
    }
   ],
   "source": [
    "bittime = 10**(-6)/6\n",
    "limit = 2*bittime\n",
    "yx = 2/6\n",
    "Tx = 1/2 *10**(-6)\n",
    "period = 3\n",
    "\n",
    "for n in range(1,12):\n",
    "  yx += fourrier(t, Tx, n, period)\n",
    "\n",
    "plt.figure(figsize=(12,7))\n",
    "ax1 = plt.axes(frameon=False)\n",
    "plt.plot(t, yx, linewidth=4)\n",
    "ax1.axes.get_xaxis().set_visible(False)\n",
    "plt.savefig('s2.jpg')\n",
    "plt.show()"
   ]
  },
  {
   "cell_type": "markdown",
   "id": "exclusive-ready",
   "metadata": {},
   "source": [
    "## Modulated Signals"
   ]
  },
  {
   "cell_type": "markdown",
   "id": "saving-louisville",
   "metadata": {},
   "source": [
    "### Channel 1"
   ]
  },
  {
   "cell_type": "code",
   "execution_count": 135,
   "id": "handed-phone",
   "metadata": {},
   "outputs": [],
   "source": [
    "period = 2\n",
    "channel1 = int(2401 + 22/2)\n",
    "\n",
    "# A Coefficient\n",
    "sig1AY = []\n",
    "sig1AX = []\n",
    "\n",
    "# Adding central one\n",
    "sig1AY.append(cosIntegral(t, T1, 0, period))\n",
    "sig1AX.append(channel1)\n",
    "\n",
    "for n in range(1,4):\n",
    "  sig1AY.append(cosIntegral(t, T1, n, period)/2)\n",
    "  sig1AY.append(cosIntegral(t, T1, n, period)/2)   \n",
    "  sig1AX.append(channel1 + n*3)\n",
    "  sig1AX.append(channel1 - n*3)\n",
    "\n",
    "# B Coefficient\n",
    "sig1BY = []\n",
    "sig1BX = []\n",
    "\n",
    "# Adding central one\n",
    "sig1BY.append(sinIntegral(t, T1, 0, period))\n",
    "sig1BX.append(channel1)\n",
    "\n",
    "for n in range(1,4):\n",
    "  sig1BY.append(sinIntegral(t, T1, n, period)/2)    \n",
    "  sig1BY.append(sinIntegral(t, T1, n, period)/2)   \n",
    "  sig1BX.append(channel1 + n*3)\n",
    "  sig1BX.append(channel1 - n*3)"
   ]
  },
  {
   "cell_type": "code",
   "execution_count": 136,
   "id": "happy-talent",
   "metadata": {},
   "outputs": [
    {
     "data": {
      "image/png": "[encoded data removed]",
      "text/plain": [
       "<Figure size 864x504 with 1 Axes>"
      ]
     },
     "metadata": {
      "needs_background": "light"
     },
     "output_type": "display_data"
    }
   ],
   "source": [
    "get_box_plot(sig1AX, sig1AY, sig1BX, sig1BY, channel1, 'modulated_bs.jpg')"
   ]
  },
  {
   "cell_type": "code",
   "execution_count": 137,
   "id": "stylish-newark",
   "metadata": {},
   "outputs": [
    {
     "data": {
      "text/plain": [
       "[2412, 2415, 2409, 2418, 2406, 2421, 2403]"
      ]
     },
     "execution_count": 137,
     "metadata": {},
     "output_type": "execute_result"
    }
   ],
   "source": [
    "sig1AX"
   ]
  },
  {
   "cell_type": "code",
   "execution_count": 138,
   "id": "declared-vancouver",
   "metadata": {},
   "outputs": [
    {
     "data": {
      "text/plain": [
       "[1.0,\n",
       " 1.6491443556331193e-17,\n",
       " 1.6491443556331193e-17,\n",
       " -6.938893903907228e-18,\n",
       " -6.938893903907228e-18,\n",
       " 3.107000181239342e-17,\n",
       " 3.107000181239342e-17]"
      ]
     },
     "execution_count": 138,
     "metadata": {},
     "output_type": "execute_result"
    }
   ],
   "source": [
    "sig1AY"
   ]
  },
  {
   "cell_type": "code",
   "execution_count": 139,
   "id": "celtic-arkansas",
   "metadata": {},
   "outputs": [
    {
     "data": {
      "image/png": "[encoded data removed]",
      "text/plain": [
       "<Figure size 864x504 with 1 Axes>"
      ]
     },
     "metadata": {
      "needs_background": "light"
     },
     "output_type": "display_data"
    }
   ],
   "source": [
    "get_points_plot(sig1AX, sig1AY, sig1BX, sig1BY, channel1, 'modulated_bs_coef.jpg')"
   ]
  },
  {
   "cell_type": "markdown",
   "id": "empty-junior",
   "metadata": {},
   "source": [
    "### Channel 3"
   ]
  },
  {
   "cell_type": "code",
   "execution_count": 140,
   "id": "seven-memorial",
   "metadata": {},
   "outputs": [
    {
     "name": "stdout",
     "output_type": "stream",
     "text": [
      "2422\n"
     ]
    }
   ],
   "source": [
    "period = 3\n",
    "channel3 = int(2401 + 10 + 22/2)\n",
    "print(channel3)\n",
    "\n",
    "# A Coefficient\n",
    "sigxAY = []\n",
    "sigxAX = []\n",
    "\n",
    "sigxAY.append(cosIntegral(t, Tx, 0, period))\n",
    "sigxAX.append(channel3)\n",
    "\n",
    "for n in range(1,6):\n",
    "  sigxAY.append(cosIntegral(t, Tx, n, period)/2)    \n",
    "  sigxAY.append(cosIntegral(t, Tx, n, period)/2)   \n",
    "  sigxAX.append(channel3 + n*2)\n",
    "  sigxAX.append(channel3 - n*2)\n",
    "\n",
    "# B Coefficient\n",
    "sigxBY = []\n",
    "sigxBX = []\n",
    "\n",
    "sigxBY.append(sinIntegral(t, Tx, 0, period))\n",
    "sigxBX.append(channel3)\n",
    "\n",
    "for n in range(1,6):\n",
    "  sigxBY.append(sinIntegral(t, Tx, n, period)/2) \n",
    "  sigxBY.append(sinIntegral(t, Tx, n, period)/2) \n",
    "  sigxBX.append(channel3 + n*2)\n",
    "  sigxBX.append(channel3 - n*2)"
   ]
  },
  {
   "cell_type": "code",
   "execution_count": 141,
   "id": "rocky-grove",
   "metadata": {},
   "outputs": [
    {
     "data": {
      "text/plain": [
       "[2422, 2424, 2420, 2426, 2418, 2428, 2416, 2430, 2414, 2432, 2412]"
      ]
     },
     "execution_count": 141,
     "metadata": {},
     "output_type": "execute_result"
    }
   ],
   "source": [
    "sigxAX"
   ]
  },
  {
   "cell_type": "code",
   "execution_count": 142,
   "id": "timely-horizon",
   "metadata": {},
   "outputs": [
    {
     "data": {
      "text/plain": [
       "[2412, 2415, 2409, 2418, 2406, 2421, 2403]"
      ]
     },
     "execution_count": 142,
     "metadata": {},
     "output_type": "execute_result"
    }
   ],
   "source": [
    "sig1AX"
   ]
  },
  {
   "cell_type": "code",
   "execution_count": 143,
   "id": "floating-charge",
   "metadata": {},
   "outputs": [
    {
     "data": {
      "image/png": "[encoded data removed]",
      "text/plain": [
       "<Figure size 864x504 with 1 Axes>"
      ]
     },
     "metadata": {
      "needs_background": "light"
     },
     "output_type": "display_data"
    }
   ],
   "source": [
    "get_box_plot(sigxAX, sigxAY, sigxBX, sigxBY, channel3, 'modulated_bs2.jpg', ylim2=0.8)"
   ]
  },
  {
   "cell_type": "code",
   "execution_count": 144,
   "id": "rural-greene",
   "metadata": {},
   "outputs": [
    {
     "data": {
      "image/png": "[encoded data removed]",
      "text/plain": [
       "<Figure size 864x504 with 1 Axes>"
      ]
     },
     "metadata": {
      "needs_background": "light"
     },
     "output_type": "display_data"
    }
   ],
   "source": [
    "get_points_plot(sigxAX, sigxAY, sigxBX, sigxBY, channel3, 'modulated_bs2_coef.jpg', ylim2=0.8)"
   ]
  },
  {
   "cell_type": "code",
   "execution_count": 145,
   "id": "accessory-heath",
   "metadata": {},
   "outputs": [
    {
     "data": {
      "image/png": "[encoded data removed]",
      "text/plain": [
       "<Figure size 864x504 with 1 Axes>"
      ]
     },
     "metadata": {
      "needs_background": "light"
     },
     "output_type": "display_data"
    }
   ],
   "source": [
    "get_multi_box_plot(sig1AX, sig1AY, sig1BX, sig1BY, channel1,\n",
    "                       sigxAX, sigxAY, sigxBX, sigxBY, channel3,\n",
    "                       name=\"channel_3_interference.jpg\", ylim1=-0.1, ylim2=1.2, store=True)"
   ]
  },
  {
   "cell_type": "markdown",
   "id": "revised-black",
   "metadata": {},
   "source": [
    "# Demodulating Signals"
   ]
  },
  {
   "cell_type": "markdown",
   "id": "collected-samuel",
   "metadata": {},
   "source": [
    "### Signals Join"
   ]
  },
  {
   "cell_type": "code",
   "execution_count": 146,
   "id": "interstate-vintage",
   "metadata": {},
   "outputs": [
    {
     "name": "stdout",
     "output_type": "stream",
     "text": [
      "10\n",
      "[2403, 2406, 2409, 2412, 2414, 2415, 2416, 2418, 2420, 2421]\n"
     ]
    }
   ],
   "source": [
    "#Mapping a coeffs\n",
    "\n",
    "mapArrayA = {}\n",
    "\n",
    "for i in range(len(sig1AX)):\n",
    "  if sig1AX[i] in mapArrayA:\n",
    "    mapArrayA[sig1AX[i]] += sig1AY[i]\n",
    "  elif(sig1AX[i] < 2423):\n",
    "    mapArrayA[sig1AX[i]] = sig1AY[i]\n",
    "\n",
    "for i in range(1, len(sigxAX)):\n",
    "  if sigxAX[i] in mapArrayA:\n",
    "    mapArrayA[sigxAX[i]] += sigxAY[i]\n",
    "  elif(sigxAX[i] < 2423):\n",
    "    mapArrayA[sigxAX[i]] = sigxAY[i] \n",
    "    \n",
    "print(len(mapArrayA))  \n",
    "print(sorted(mapArrayA))"
   ]
  },
  {
   "cell_type": "code",
   "execution_count": 147,
   "id": "planned-audience",
   "metadata": {},
   "outputs": [
    {
     "name": "stdout",
     "output_type": "stream",
     "text": [
      "[6.214000362478684e-17, -0.06891611192772401, 3.2982887112662386e-17]\n"
     ]
    }
   ],
   "source": [
    "newArray = []\n",
    "\n",
    "center = 2412\n",
    "for i in sorted(mapArrayA):\n",
    "  if i < center:\n",
    "    result = mapArrayA[i]\n",
    "    if (center-(i-center)) in mapArrayA:\n",
    "      result +=  mapArrayA[center-(i-center)]\n",
    "    newArray.append(result)\n",
    "print(newArray)"
   ]
  },
  {
   "cell_type": "code",
   "execution_count": 148,
   "id": "indie-elevation",
   "metadata": {},
   "outputs": [
    {
     "name": "stdout",
     "output_type": "stream",
     "text": [
      "1\n",
      "[0.0, 0.3183098861837907, 0.3183098861837907, -2.1878973727703183e-17, -2.1878973727703183e-17, 0.10610329539459697, 0.10610329539459697]\n",
      "[2412, 2415, 2409, 2418, 2406, 2421, 2403]\n",
      "3\n",
      "[0.0, 0.23873241463784295, 0.23873241463784295, 0.11936620731892153, 0.11936620731892153, -1.535858528380856e-17, -1.535858528380856e-17, 0.05968310365946074, 0.05968310365946074, 0.04774648292756863, 0.04774648292756863]\n",
      "[2422, 2424, 2420, 2426, 2418, 2428, 2416, 2430, 2414, 2432, 2412]\n"
     ]
    }
   ],
   "source": [
    "#Mapping b coeffs\n",
    "print(\"1\")\n",
    "print(sig1BY)\n",
    "print(sig1BX)\n",
    "print(\"3\")\n",
    "print(sigxBY)\n",
    "print(sigxBX)"
   ]
  },
  {
   "cell_type": "code",
   "execution_count": 149,
   "id": "stopped-relation",
   "metadata": {},
   "outputs": [
    {
     "name": "stdout",
     "output_type": "stream",
     "text": [
      "10\n",
      "[2403, 2406, 2409, 2412, 2414, 2415, 2416, 2418, 2420, 2421]\n"
     ]
    }
   ],
   "source": [
    "mapArrayB = {}\n",
    "\n",
    "for i in range(len(sig1BX)):\n",
    "  if sig1BX[i] in mapArrayB:\n",
    "    mapArrayB[sig1BX[i]] += sig1BY[i]\n",
    "  elif(sig1BX[i] < 2423):\n",
    "    mapArrayB[sig1BX[i]] = sig1BY[i]\n",
    "\n",
    "for i in range(1, len(sigxBX)):\n",
    "  if sigxBX[i] in mapArrayB:\n",
    "    mapArrayB[sigxBX[i]] += sigxBY[i]\n",
    "  elif(sigxBX[i] < 2423):\n",
    "    mapArrayB[sigxBX[i]] = sigxBY[i] \n",
    "    \n",
    "print(len(mapArrayB))  \n",
    "print(sorted(mapArrayB))"
   ]
  },
  {
   "cell_type": "code",
   "execution_count": 150,
   "id": "prepared-persian",
   "metadata": {},
   "outputs": [
    {
     "name": "stdout",
     "output_type": "stream",
     "text": [
      "[0.05968310365946074, 0.6366197723675814, -1.535858528380856e-17, 0.11936620731892147, 0.23873241463784295, 0.21220659078919393]\n"
     ]
    }
   ],
   "source": [
    "newBrray = []\n",
    "center = 2412\n",
    "for i in sorted(mapArrayB):\n",
    "  if i > center:\n",
    "    result = mapArrayB[i]\n",
    "    if (center-(i-center)) in mapArrayB:\n",
    "      result +=  mapArrayB[center-(i-center)]\n",
    "    newBrray.append(result)\n",
    "print(newBrray)"
   ]
  },
  {
   "cell_type": "code",
   "execution_count": 151,
   "id": "alternate-prerequisite",
   "metadata": {},
   "outputs": [
    {
     "name": "stdout",
     "output_type": "stream",
     "text": [
      "transmissionRate = 6000000\n",
      "Tb = 1.6666666666666668e-07\n",
      "Ts = 3.3333333333333335e-07\n",
      "T1 = 3.333333333333333e-07\n",
      "y = 0.5\n"
     ]
    }
   ],
   "source": [
    "# Checking Values\n",
    "T=T1\n",
    "y = 0.5\n",
    "\n",
    "print('transmissionRate = ' + str(transmissionRate))\n",
    "print('Tb = ' + str(Tb))\n",
    "print('Ts = ' + str(Ts))\n",
    "print('T1 = ' + str(T1))\n",
    "print('y = ' + str(y))\n",
    "t = np.linspace(0, 2*T1, 100)\n",
    "#print('t = ' + str(t))"
   ]
  },
  {
   "cell_type": "code",
   "execution_count": 152,
   "id": "supposed-fleet",
   "metadata": {},
   "outputs": [
    {
     "name": "stdout",
     "output_type": "stream",
     "text": [
      "[ 0.43108389  0.69935523  0.94675506  1.15379096  1.3056503   1.39380477\n",
      "  1.41683135  1.38035521  1.29613388  1.1804122   1.05176952  0.92874254\n",
      "  0.82753085  0.76007551  0.73274599  0.74578603  0.79356614  0.86558343\n",
      "  0.94805306  1.02586239  1.08461812  1.11251354  1.10177655  1.04952366\n",
      "  0.95793234  0.83373908  0.68716245  0.53042475  0.37609376  0.23548157\n",
      "  0.11731867  0.02687344 -0.03438418 -0.06855792 -0.08060427 -0.07724952\n",
      " -0.06572603 -0.0525278  -0.04237406 -0.03753053 -0.03757759 -0.03964307\n",
      " -0.03904448 -0.03022375 -0.00781481  0.03233262  0.09233897  0.17181979\n",
      "  0.26782349  0.37518817  0.48725711  0.59683509  0.6972298   0.78320866\n",
      "  0.85171553  0.90222921  0.93670329  0.95909395  0.9745489   0.98838717\n",
      "  1.00503535  1.02709699  1.05471464  1.0853416   1.1139782   1.13385508\n",
      "  1.13747404  1.11785671  1.0698124   0.99102478  0.8827762   0.7501755\n",
      "  0.6018243   0.44893845  0.30402375  0.17927577  0.084922    0.02774338\n",
      "  0.00999662  0.02891106  0.07685906  0.14220785  0.21076461  0.26764055\n",
      "  0.29929448  0.29548297  0.25084768  0.16591083  0.04732314 -0.09269472\n",
      " -0.23766977 -0.36880254 -0.46726569 -0.51658522 -0.50479696 -0.4260949\n",
      " -0.28174998 -0.08016958  0.16392143  0.43108389]\n"
     ]
    }
   ],
   "source": [
    "for n in range(max(len(newArray), len(newBrray))):\n",
    "  if n < len(newArray):\n",
    "    y += newArray[n]*(cosinus(t, T, (n+1),2))\n",
    "  if n < len(newBrray):\n",
    "    y += newBrray[n]*(sinus(t, T, (n+1),2))\n",
    "\n",
    "print(y)"
   ]
  },
  {
   "cell_type": "code",
   "execution_count": 153,
   "id": "royal-oakland",
   "metadata": {},
   "outputs": [
    {
     "data": {
      "text/plain": [
       "array([0.00000000e+00, 6.73400673e-09, 1.34680135e-08, 2.02020202e-08,\n",
       "       2.69360269e-08, 3.36700337e-08, 4.04040404e-08, 4.71380471e-08,\n",
       "       5.38720539e-08, 6.06060606e-08, 6.73400673e-08, 7.40740741e-08,\n",
       "       8.08080808e-08, 8.75420875e-08, 9.42760943e-08, 1.01010101e-07,\n",
       "       1.07744108e-07, 1.14478114e-07, 1.21212121e-07, 1.27946128e-07,\n",
       "       1.34680135e-07, 1.41414141e-07, 1.48148148e-07, 1.54882155e-07,\n",
       "       1.61616162e-07, 1.68350168e-07, 1.75084175e-07, 1.81818182e-07,\n",
       "       1.88552189e-07, 1.95286195e-07, 2.02020202e-07, 2.08754209e-07,\n",
       "       2.15488215e-07, 2.22222222e-07, 2.28956229e-07, 2.35690236e-07,\n",
       "       2.42424242e-07, 2.49158249e-07, 2.55892256e-07, 2.62626263e-07,\n",
       "       2.69360269e-07, 2.76094276e-07, 2.82828283e-07, 2.89562290e-07,\n",
       "       2.96296296e-07, 3.03030303e-07, 3.09764310e-07, 3.16498316e-07,\n",
       "       3.23232323e-07, 3.29966330e-07, 3.36700337e-07, 3.43434343e-07,\n",
       "       3.50168350e-07, 3.56902357e-07, 3.63636364e-07, 3.70370370e-07,\n",
       "       3.77104377e-07, 3.83838384e-07, 3.90572391e-07, 3.97306397e-07,\n",
       "       4.04040404e-07, 4.10774411e-07, 4.17508418e-07, 4.24242424e-07,\n",
       "       4.30976431e-07, 4.37710438e-07, 4.44444444e-07, 4.51178451e-07,\n",
       "       4.57912458e-07, 4.64646465e-07, 4.71380471e-07, 4.78114478e-07,\n",
       "       4.84848485e-07, 4.91582492e-07, 4.98316498e-07, 5.05050505e-07,\n",
       "       5.11784512e-07, 5.18518519e-07, 5.25252525e-07, 5.31986532e-07,\n",
       "       5.38720539e-07, 5.45454545e-07, 5.52188552e-07, 5.58922559e-07,\n",
       "       5.65656566e-07, 5.72390572e-07, 5.79124579e-07, 5.85858586e-07,\n",
       "       5.92592593e-07, 5.99326599e-07, 6.06060606e-07, 6.12794613e-07,\n",
       "       6.19528620e-07, 6.26262626e-07, 6.32996633e-07, 6.39730640e-07,\n",
       "       6.46464646e-07, 6.53198653e-07, 6.59932660e-07, 6.66666667e-07])"
      ]
     },
     "execution_count": 153,
     "metadata": {},
     "output_type": "execute_result"
    }
   ],
   "source": [
    "t"
   ]
  },
  {
   "cell_type": "code",
   "execution_count": 154,
   "id": "crude-harassment",
   "metadata": {},
   "outputs": [
    {
     "data": {
      "image/png": "[encoded data removed]",
      "text/plain": [
       "<Figure size 864x504 with 1 Axes>"
      ]
     },
     "metadata": {
      "needs_background": "light"
     },
     "output_type": "display_data"
    }
   ],
   "source": [
    "plt.figure(figsize=(12,7))\n",
    "ax1 = plt.axes(frameon=False)   \n",
    "#plt.plot(t, y,  label=\"Expected signal.\", color='tab:blue', linewidth=4)\n",
    "plt.plot(t, y,  \n",
    "         #label=\"Received signal (b') - Interf Channel 3. \", \n",
    "         linewidth=4, color='red')\n",
    "#plt.legend(bbox_to_anchor=(1.05,1), loc=2, borderaxespad=0);\n",
    "#h1 = np.array([1 for i in range(int(len(t)/4))])\n",
    "#h2 = np.array([0 for i in range(int(len(t)/4),2*int(len(t)/4))])\n",
    "#h3 = np.array([1 for i in range(2*int(len(t)/4),3*int(len(t)/4))])\n",
    "#h4 = np.array([0 for i in range(3*int(len(t)/4),4*int(len(t)/4))])\n",
    "\n",
    "#h = np.concatenate([h1, h2, h3, h4])\n",
    "#plt.plot(t, h, 'tab:blue', linewidth=4)\n",
    "\n",
    "plt.ylabel('Signal')\n",
    "plt.xlabel('Time (s)')\n",
    "#ax1.legend(loc=1)\n",
    "plt.savefig(\"basewith interf.jpg\")\n",
    "plt.show()"
   ]
  },
  {
   "cell_type": "markdown",
   "id": "positive-wichita",
   "metadata": {},
   "source": [
    "# Modulating Signals"
   ]
  },
  {
   "cell_type": "markdown",
   "id": "talented-chemical",
   "metadata": {},
   "source": [
    "### Channel 1"
   ]
  },
  {
   "cell_type": "code",
   "execution_count": 155,
   "id": "precious-representative",
   "metadata": {},
   "outputs": [
    {
     "name": "stdout",
     "output_type": "stream",
     "text": [
      "2412\n"
     ]
    }
   ],
   "source": [
    "period = 2\n",
    "channel1 = int(2401 + 22/2)\n",
    "print(channel1)\n",
    "\n",
    "# A Coefficient\n",
    "sig1AY = []\n",
    "sig1AX = []\n",
    "\n",
    "# Adding central one\n",
    "sig1AY.append(cosIntegral(t, T1, 0, period))\n",
    "sig1AX.append(channel1)\n",
    "\n",
    "for n in range(1,4):\n",
    "  sig1AY.append(cosIntegral(t, T1, n, period)/2)\n",
    "  sig1AY.append(cosIntegral(t, T1, n, period)/2)   \n",
    "  sig1AX.append(channel1 + n*3)\n",
    "  sig1AX.append(channel1 - n*3)\n",
    "\n",
    "# B Coefficient\n",
    "sig1BY = []\n",
    "sig1BX = []\n",
    "\n",
    "# Adding central one\n",
    "sig1BY.append(sinIntegral(t, T1, 0, period))\n",
    "sig1BX.append(channel1)\n",
    "\n",
    "for n in range(1,4):\n",
    "  sig1BY.append(sinIntegral(t, T1, n, period)/2)    \n",
    "  sig1BY.append(sinIntegral(t, T1, n, period)/2)   \n",
    "  sig1BX.append(channel1 + n*3)\n",
    "  sig1BX.append(channel1 - n*3)"
   ]
  },
  {
   "cell_type": "code",
   "execution_count": 156,
   "id": "comfortable-future",
   "metadata": {},
   "outputs": [
    {
     "data": {
      "image/png": "[encoded data removed]",
      "text/plain": [
       "<Figure size 864x504 with 1 Axes>"
      ]
     },
     "metadata": {
      "needs_background": "light"
     },
     "output_type": "display_data"
    }
   ],
   "source": [
    "get_box_plot(sig1AX, sig1AY, sig1BX, sig1BY, channel1, store=False)"
   ]
  },
  {
   "cell_type": "code",
   "execution_count": 157,
   "id": "another-original",
   "metadata": {},
   "outputs": [
    {
     "name": "stdout",
     "output_type": "stream",
     "text": [
      "A\n",
      "[1.0, 1.6491443556331193e-17, 1.6491443556331193e-17, -6.938893903907228e-18, -6.938893903907228e-18, 3.107000181239342e-17, 3.107000181239342e-17]\n",
      "[2412, 2415, 2409, 2418, 2406, 2421, 2403]\n",
      "\n",
      "\n",
      "B\n",
      "[0.0, 0.3183098861837907, 0.3183098861837907, -2.1878973727703183e-17, -2.1878973727703183e-17, 0.10610329539459697, 0.10610329539459697]\n",
      "[2412, 2415, 2409, 2418, 2406, 2421, 2403]\n"
     ]
    }
   ],
   "source": [
    "# Checking Values\n",
    "print('A')\n",
    "print(sig1AY)\n",
    "print(sig1AX)\n",
    "print('\\n')\n",
    "print('B')\n",
    "print(sig1BY)\n",
    "print(sig1BX)"
   ]
  },
  {
   "cell_type": "markdown",
   "id": "closing-wonder",
   "metadata": {},
   "source": [
    "### Channel 6"
   ]
  },
  {
   "cell_type": "code",
   "execution_count": 158,
   "id": "another-commissioner",
   "metadata": {},
   "outputs": [
    {
     "name": "stdout",
     "output_type": "stream",
     "text": [
      "2437\n"
     ]
    }
   ],
   "source": [
    "period = 3\n",
    "channel6 = int(2401 + 25 + 22/2)\n",
    "print(channel6)\n",
    "\n",
    "# A Coefficient\n",
    "sigxAY = []\n",
    "sigxAX = []\n",
    "\n",
    "# Adding central one\n",
    "sigxAY.append(cosIntegral(t, Tx, 0, period))\n",
    "sigxAX.append(channel6)\n",
    "\n",
    "for n in range(1,6):\n",
    "  sigxAY.append(cosIntegral(t, Tx, n, period)/2)    \n",
    "  sigxAY.append(cosIntegral(t, Tx, n, period)/2)   \n",
    "  sigxAX.append(channel6 + n*2)\n",
    "  sigxAX.append(channel6 - n*2)\n",
    "\n",
    "# B Coefficient\n",
    "sigxBY = []\n",
    "sigxBX = []\n",
    "\n",
    "# Adding central one\n",
    "sigxBY.append(sinIntegral(t, Tx, 0, period))\n",
    "sigxBX.append(channel6)\n",
    "\n",
    "for n in range(1,6):\n",
    "  sigxBY.append(sinIntegral(t, Tx, n, period)/2) \n",
    "  sigxBY.append(sinIntegral(t, Tx, n, period)/2) \n",
    "  sigxBX.append(channel6 + n*2)\n",
    "  sigxBX.append(channel6 - n*2)"
   ]
  },
  {
   "cell_type": "code",
   "execution_count": 159,
   "id": "sized-course",
   "metadata": {},
   "outputs": [
    {
     "data": {
      "image/png": "[encoded data removed]",
      "text/plain": [
       "<Figure size 864x504 with 1 Axes>"
      ]
     },
     "metadata": {
      "needs_background": "light"
     },
     "output_type": "display_data"
    }
   ],
   "source": [
    "get_box_plot(sigxAX, sigxAY, sigxBX, sigxBY, channel6, name=\"channel6.jpg\", ylim1=-0.1, ylim2=0.8, store=True)"
   ]
  },
  {
   "cell_type": "code",
   "execution_count": 160,
   "id": "oriental-viking",
   "metadata": {},
   "outputs": [
    {
     "data": {
      "image/png": "[encoded data removed]",
      "text/plain": [
       "<Figure size 864x504 with 1 Axes>"
      ]
     },
     "metadata": {
      "needs_background": "light"
     },
     "output_type": "display_data"
    }
   ],
   "source": [
    "get_points_plot(sigxAX, sigxAY, sigxBX, sigxBY, channel6, 'channel6int.jpg', ylim2=0.8)"
   ]
  },
  {
   "cell_type": "code",
   "execution_count": 161,
   "id": "extended-thirty",
   "metadata": {},
   "outputs": [
    {
     "data": {
      "image/png": "[encoded data removed]",
      "text/plain": [
       "<Figure size 864x504 with 1 Axes>"
      ]
     },
     "metadata": {
      "needs_background": "light"
     },
     "output_type": "display_data"
    }
   ],
   "source": [
    "get_multi_box_plot(sig1AX, sig1AY, sig1BX, sig1BY, channel1,\n",
    "                       sigxAX, sigxAY, sigxBX, sigxBY, channel6,\n",
    "                       name=\"channel_6_interference.jpg\", ylim1=-0.1, ylim2=1.2, store=True)"
   ]
  },
  {
   "cell_type": "code",
   "execution_count": 162,
   "id": "digital-february",
   "metadata": {},
   "outputs": [
    {
     "name": "stdout",
     "output_type": "stream",
     "text": [
      "1\n",
      "A\n",
      "[1.0, 1.6491443556331193e-17, 1.6491443556331193e-17, -6.938893903907228e-18, -6.938893903907228e-18, 3.107000181239342e-17, 3.107000181239342e-17]\n",
      "[2412, 2415, 2409, 2418, 2406, 2421, 2403]\n",
      "B\n",
      "[0.0, 0.3183098861837907, 0.3183098861837907, -2.1878973727703183e-17, -2.1878973727703183e-17, 0.10610329539459697, 0.10610329539459697]\n",
      "[2412, 2415, 2409, 2418, 2406, 2421, 2403]\n",
      "\n",
      "\n",
      "6\n",
      "A\n",
      "[0.6666666666666666, 0.13783222385544802, 0.13783222385544802, -0.068916111927724, -0.068916111927724, -3.2381504884900395e-17, -3.2381504884900395e-17, 0.034458055963862005, 0.034458055963862005, -0.027566444771089597, -0.027566444771089597]\n",
      "[2437, 2439, 2435, 2441, 2433, 2443, 2431, 2445, 2429, 2447, 2427]\n",
      "B\n",
      "[0.0, 0.23873241463784295, 0.23873241463784295, 0.11936620731892153, 0.11936620731892153, -1.535858528380856e-17, -1.535858528380856e-17, 0.05968310365946074, 0.05968310365946074, 0.04774648292756863, 0.04774648292756863]\n",
      "[2437, 2439, 2435, 2441, 2433, 2443, 2431, 2445, 2429, 2447, 2427]\n"
     ]
    }
   ],
   "source": [
    "print(1)\n",
    "print('A')\n",
    "print(sig1AY)\n",
    "print(sig1AX)\n",
    "print('B')\n",
    "print(sig1BY)\n",
    "print(sig1BX)\n",
    "\n",
    "print('\\n')\n",
    "print(6)\n",
    "print('A')\n",
    "print(sigxAY)\n",
    "print(sigxAX)\n",
    "print('B')\n",
    "print(sigxBY)\n",
    "print(sigxBX)"
   ]
  },
  {
   "cell_type": "markdown",
   "id": "right-oriental",
   "metadata": {},
   "source": [
    "### Joining Signals"
   ]
  },
  {
   "cell_type": "code",
   "execution_count": 163,
   "id": "outdoor-madonna",
   "metadata": {},
   "outputs": [
    {
     "name": "stdout",
     "output_type": "stream",
     "text": [
      "7\n",
      "[2403, 2406, 2409, 2412, 2415, 2418, 2421]\n",
      "12\n",
      "[2403, 2406, 2409, 2412, 2415, 2418, 2421, 2427, 2429, 2431, 2433, 2435]\n"
     ]
    }
   ],
   "source": [
    "# A coeffs\n",
    "mapArrayA = {}\n",
    "\n",
    "for i in range(len(sig1AX)):\n",
    "  if sig1AX[i] in mapArrayA:\n",
    "    mapArrayA[sig1AX[i]] += sig1AY[i]\n",
    "  else:\n",
    "    if(sig1AX[i] <= 2435):\n",
    "      mapArrayA[sig1AX[i]] = sig1AY[i]\n",
    "\n",
    "print(len(mapArrayA))  \n",
    "print(sorted(mapArrayA))\n",
    "\n",
    "for i in range(1, len(sigxAX)):\n",
    "  if sigxAX[i] in mapArrayA:\n",
    "    mapArrayA[sigxAX[i]] += sigxAY[i]\n",
    "  else:\n",
    "    if(sigxAX[i] <= 2435):\n",
    "      mapArrayA[sigxAX[i]] = sigxAY[i] \n",
    "    \n",
    "print(len(mapArrayA))  \n",
    "print(sorted(mapArrayA))"
   ]
  },
  {
   "cell_type": "code",
   "execution_count": 164,
   "id": "intensive-prisoner",
   "metadata": {},
   "outputs": [
    {
     "name": "stdout",
     "output_type": "stream",
     "text": [
      "[6.214000362478684e-17, -1.3877787807814457e-17, 3.2982887112662386e-17]\n"
     ]
    }
   ],
   "source": [
    "newArray = []\n",
    "\n",
    "center = 2412\n",
    "for i in sorted(mapArrayA):\n",
    "  if i < center:\n",
    "    result = mapArrayA[i]\n",
    "    if (center-(i-center)) in mapArrayA:\n",
    "      result +=  mapArrayA[center-(i-center)]\n",
    "    newArray.append(result)\n",
    "print(newArray)"
   ]
  },
  {
   "cell_type": "code",
   "execution_count": 165,
   "id": "interested-standard",
   "metadata": {},
   "outputs": [
    {
     "name": "stdout",
     "output_type": "stream",
     "text": [
      "6\n",
      "[2403, 2406, 2409, 2415, 2418, 2421]\n",
      "11\n",
      "[2403, 2406, 2409, 2415, 2418, 2421, 2427, 2429, 2431, 2433, 2435]\n"
     ]
    }
   ],
   "source": [
    "# B coeffs\n",
    "mapArrayB = {}\n",
    "\n",
    "for i in range(len(sig1BX)):\n",
    "  if sig1BX[i] in mapArrayB:\n",
    "    mapArrayB[sig1BX[i]] += sig1BY[i]\n",
    "  else:\n",
    "      if(sig1BX[i] != 2412):\n",
    "        mapArrayB[sig1BX[i]] = sig1BY[i]\n",
    "\n",
    "print(len(mapArrayB))  \n",
    "print(sorted(mapArrayB))\n",
    "\n",
    "for i in range(1, len(sigxBX)):\n",
    "  if sigxBX[i] in mapArrayB:\n",
    "    mapArrayB[sigxBX[i]] += sigxBY[i]\n",
    "  else:\n",
    "    if(sigxBX[i] <= 2435):\n",
    "      mapArrayB[sigxBX[i]] = sigxBY[i] \n",
    "    \n",
    "print(len(mapArrayB))  \n",
    "print(sorted(mapArrayB))"
   ]
  },
  {
   "cell_type": "code",
   "execution_count": 166,
   "id": "grateful-square",
   "metadata": {},
   "outputs": [
    {
     "name": "stdout",
     "output_type": "stream",
     "text": [
      "[0.6366197723675814, -4.3757947455406366e-17, 0.21220659078919393, 0.04774648292756863, 0.05968310365946074, -1.535858528380856e-17, 0.11936620731892153, 0.23873241463784295]\n"
     ]
    }
   ],
   "source": [
    "newBrray = []\n",
    "center = 2412\n",
    "for i in sorted(mapArrayB):\n",
    "  if i > center:\n",
    "    result = mapArrayB[i]\n",
    "    if (center-(i-center)) in mapArrayB:\n",
    "      result +=  mapArrayB[center-(i-center)]\n",
    "    newBrray.append(result)\n",
    "print(newBrray)"
   ]
  },
  {
   "cell_type": "markdown",
   "id": "informed-width",
   "metadata": {},
   "source": [
    "### Demodulating"
   ]
  },
  {
   "cell_type": "code",
   "execution_count": 167,
   "id": "absent-anger",
   "metadata": {},
   "outputs": [
    {
     "name": "stdout",
     "output_type": "stream",
     "text": [
      "transmissionRate = 6000000\n",
      "Tb = 1.6666666666666668e-07\n",
      "Ts = 3.3333333333333335e-07\n",
      "T1 = 3.333333333333333e-07\n",
      "y = 0.5\n"
     ]
    }
   ],
   "source": [
    "# Checking Values\n",
    "T=T1\n",
    "y = 0.5\n",
    "\n",
    "print('transmissionRate = ' + str(transmissionRate))\n",
    "print('Tb = ' + str(Tb))\n",
    "print('Ts = ' + str(Ts))\n",
    "print('T1 = ' + str(T1))\n",
    "print('y = ' + str(y))\n",
    "t = np.linspace(0, 2*T1, 100)\n",
    "#print('t = ' + str(t))"
   ]
  },
  {
   "cell_type": "code",
   "execution_count": 168,
   "id": "geographic-poker",
   "metadata": {},
   "outputs": [],
   "source": [
    "for n in range(max(len(newArray), len(newBrray))):\n",
    "  if n < len(newArray):\n",
    "    y += newArray[n]*(cosinus(t, T, (n+1),1))\n",
    "  if n < len(newBrray):\n",
    "    y += newBrray[n]*(sinus(t, T, (n+1),1))"
   ]
  },
  {
   "cell_type": "code",
   "execution_count": 170,
   "id": "bizarre-bradley",
   "metadata": {},
   "outputs": [
    {
     "data": {
      "image/png": "[encoded data removed]",
      "text/plain": [
       "<Figure size 864x504 with 1 Axes>"
      ]
     },
     "metadata": {
      "needs_background": "light"
     },
     "output_type": "display_data"
    }
   ],
   "source": [
    "plt.figure(figsize=(12,7))\n",
    "ax1 = plt.axes(frameon=False)   \n",
    "#plt.plot(t, y,  label=\"Expected signal.\", color='tab:blue', linewidth=4)\n",
    "#plt.plot(expected_t, expected_y, linewidth=4)\n",
    "plt.plot(t, y,\n",
    "         #label=\"Received signal (b') - Interf Channel 6. \", \n",
    "         linewidth=4, color='red')\n",
    "#plt.legend(bbox_to_anchor=(1.05,1), loc=2, borderaxespad=0);\n",
    "\n",
    "plt.ylabel('Signal')\n",
    "plt.xlabel('Time (s)')\n",
    "#ax1.axes.get_xaxis().set_visible(False)\n",
    "#ax1.legend(loc=1)\n",
    "plt.savefig(\"basewith interf_2.jpg\")\n",
    "plt.show()"
   ]
  },
  {
   "cell_type": "code",
   "execution_count": 74,
   "id": "artificial-software",
   "metadata": {},
   "outputs": [
    {
     "data": {
      "text/plain": [
       "array([0.00000000e+00, 6.66733340e-11, 1.33346668e-10, ...,\n",
       "       6.66533320e-07, 6.66599993e-07, 6.66666667e-07])"
      ]
     },
     "execution_count": 74,
     "metadata": {},
     "output_type": "execute_result"
    }
   ],
   "source": [
    "expected_t"
   ]
  },
  {
   "cell_type": "code",
   "execution_count": 75,
   "id": "plain-resort",
   "metadata": {},
   "outputs": [
    {
     "data": {
      "text/plain": [
       "array([0.5      , 0.5032003, 0.5064005, ..., 0.4935995, 0.4967997,\n",
       "       0.5      ])"
      ]
     },
     "execution_count": 75,
     "metadata": {},
     "output_type": "execute_result"
    }
   ],
   "source": [
    "expected_y"
   ]
  },
  {
   "cell_type": "code",
   "execution_count": 76,
   "id": "hawaiian-editing",
   "metadata": {},
   "outputs": [
    {
     "data": {
      "text/plain": [
       "array([0.00000000e+00, 6.73400673e-09, 1.34680135e-08, 2.02020202e-08,\n",
       "       2.69360269e-08, 3.36700337e-08, 4.04040404e-08, 4.71380471e-08,\n",
       "       5.38720539e-08, 6.06060606e-08, 6.73400673e-08, 7.40740741e-08,\n",
       "       8.08080808e-08, 8.75420875e-08, 9.42760943e-08, 1.01010101e-07,\n",
       "       1.07744108e-07, 1.14478114e-07, 1.21212121e-07, 1.27946128e-07,\n",
       "       1.34680135e-07, 1.41414141e-07, 1.48148148e-07, 1.54882155e-07,\n",
       "       1.61616162e-07, 1.68350168e-07, 1.75084175e-07, 1.81818182e-07,\n",
       "       1.88552189e-07, 1.95286195e-07, 2.02020202e-07, 2.08754209e-07,\n",
       "       2.15488215e-07, 2.22222222e-07, 2.28956229e-07, 2.35690236e-07,\n",
       "       2.42424242e-07, 2.49158249e-07, 2.55892256e-07, 2.62626263e-07,\n",
       "       2.69360269e-07, 2.76094276e-07, 2.82828283e-07, 2.89562290e-07,\n",
       "       2.96296296e-07, 3.03030303e-07, 3.09764310e-07, 3.16498316e-07,\n",
       "       3.23232323e-07, 3.29966330e-07, 3.36700337e-07, 3.43434343e-07,\n",
       "       3.50168350e-07, 3.56902357e-07, 3.63636364e-07, 3.70370370e-07,\n",
       "       3.77104377e-07, 3.83838384e-07, 3.90572391e-07, 3.97306397e-07,\n",
       "       4.04040404e-07, 4.10774411e-07, 4.17508418e-07, 4.24242424e-07,\n",
       "       4.30976431e-07, 4.37710438e-07, 4.44444444e-07, 4.51178451e-07,\n",
       "       4.57912458e-07, 4.64646465e-07, 4.71380471e-07, 4.78114478e-07,\n",
       "       4.84848485e-07, 4.91582492e-07, 4.98316498e-07, 5.05050505e-07,\n",
       "       5.11784512e-07, 5.18518519e-07, 5.25252525e-07, 5.31986532e-07,\n",
       "       5.38720539e-07, 5.45454545e-07, 5.52188552e-07, 5.58922559e-07,\n",
       "       5.65656566e-07, 5.72390572e-07, 5.79124579e-07, 5.85858586e-07,\n",
       "       5.92592593e-07, 5.99326599e-07, 6.06060606e-07, 6.12794613e-07,\n",
       "       6.19528620e-07, 6.26262626e-07, 6.32996633e-07, 6.39730640e-07,\n",
       "       6.46464646e-07, 6.53198653e-07, 6.59932660e-07, 6.66666667e-07])"
      ]
     },
     "execution_count": 76,
     "metadata": {},
     "output_type": "execute_result"
    }
   ],
   "source": [
    "t"
   ]
  },
  {
   "cell_type": "code",
   "execution_count": 77,
   "id": "polish-toolbox",
   "metadata": {},
   "outputs": [
    {
     "data": {
      "text/plain": [
       "array([ 0.5       ,  1.01356391,  1.23462671,  1.11112028,  0.86028143,\n",
       "        0.76511225,  0.92492468,  1.18248094,  1.28516165,  1.12518652,\n",
       "        0.83805165,  0.67491332,  0.77328767,  1.03845795,  1.23886932,\n",
       "        1.21937164,  1.03283155,  0.87478689,  0.89231691,  1.05030798,\n",
       "        1.17499161,  1.12281267,  0.90834419,  0.67352819,  0.53894593,\n",
       "        0.48990371,  0.40896271,  0.21646716, -0.02848591, -0.17430533,\n",
       "       -0.12862301,  0.03690433,  0.14089359,  0.06238269, -0.13606265,\n",
       "       -0.25840444, -0.16065357,  0.10131194,  0.30800805,  0.2726676 ,\n",
       "        0.01819783, -0.23474338, -0.2655971 , -0.05805569,  0.18210197,\n",
       "        0.2193851 ,  0.0178592 , -0.20713651, -0.17123737,  0.22147425,\n",
       "        0.77852575,  1.17123737,  1.20713651,  0.9821408 ,  0.7806149 ,\n",
       "        0.81789803,  1.05805569,  1.2655971 ,  1.23474338,  0.98180217,\n",
       "        0.7273324 ,  0.69199195,  0.89868806,  1.16065357,  1.25840444,\n",
       "        1.13606265,  0.93761731,  0.85910641,  0.96309567,  1.12862301,\n",
       "        1.17430533,  1.02848591,  0.78353284,  0.59103729,  0.51009629,\n",
       "        0.46105407,  0.32647181,  0.09165581, -0.12281267, -0.17499161,\n",
       "       -0.05030798,  0.10768309,  0.12521311, -0.03283155, -0.21937164,\n",
       "       -0.23886932, -0.03845795,  0.22671233,  0.32508668,  0.16194835,\n",
       "       -0.12518652, -0.28516165, -0.18248094,  0.07507532,  0.23488775,\n",
       "        0.13971857, -0.11112028, -0.23462671, -0.01356391,  0.5       ])"
      ]
     },
     "execution_count": 77,
     "metadata": {},
     "output_type": "execute_result"
    }
   ],
   "source": [
    "y"
   ]
  },
  {
   "cell_type": "code",
   "execution_count": null,
   "id": "lucky-portland",
   "metadata": {},
   "outputs": [],
   "source": []
  }
 ],
 "metadata": {
  "kernelspec": {
   "display_name": "Python 3",
   "language": "python",
   "name": "python3"
  },
  "language_info": {
   "codemirror_mode": {
    "name": "ipython",
    "version": 3
   },
   "file_extension": ".py",
   "mimetype": "text/x-python",
   "name": "python",
   "nbconvert_exporter": "python",
   "pygments_lexer": "ipython3",
   "version": "3.8.5"
  }
 },
 "nbformat": 4,
 "nbformat_minor": 5
}
